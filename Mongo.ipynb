{
 "cells": [
  {
   "attachments": {},
   "cell_type": "markdown",
   "id": "b2ee2b29",
   "metadata": {},
   "source": [
    "# Notebook to experiment with MongoDB\n",
    "\n",
    "In this notebook you can play around with MongoDB through python."
   ]
  },
  {
   "attachments": {},
   "cell_type": "markdown",
   "id": "ec73c07f",
   "metadata": {},
   "source": [
    "First we install some needed libraries."
   ]
  },
  {
   "cell_type": "code",
   "execution_count": null,
   "id": "bd0a6e77",
   "metadata": {},
   "outputs": [],
   "source": [
    "!pip install pymongo\n",
    "!pip install folium"
   ]
  },
  {
   "attachments": {},
   "cell_type": "markdown",
   "id": "0d17a723",
   "metadata": {},
   "source": [
    "Next we load the libraries we are going to use. Most important is pymongo which will interface python with the MongoDB running on the Jupyter server."
   ]
  },
  {
   "cell_type": "code",
   "execution_count": null,
   "id": "da2a65cf",
   "metadata": {},
   "outputs": [],
   "source": [
    "import os\n",
    "import pandas as pd\n",
    "import numpy as np\n",
    "from IPython.core.display import display, HTML\n",
    "import pymongo\n",
    "from pymongo import MongoClient\n",
    "print ('Mongo version', pymongo.__version__)\n",
    "host = \"localhost\"\n",
    "port = 27017\n",
    "\n",
    "user_name = \"test\"\n",
    "pass_word = \"mongo\"  \n",
    "\n",
    "db_name = \"test\"  # database name to authenticate\n",
    "\n",
    "client = MongoClient(f'mongodb://{user_name}:{pass_word}@{host}:{port}/{db_name}') \n",
    "db = client.test\n",
    "collection = db.people"
   ]
  },
  {
   "cell_type": "code",
   "execution_count": null,
   "id": "873c5009",
   "metadata": {},
   "outputs": [],
   "source": [
    "collection.drop()\n",
    "os.system('mongoimport -u test -p \"mongo\" -d test -c people nosql/dummyData.json')"
   ]
  },
  {
   "cell_type": "code",
   "execution_count": null,
   "id": "432cfa86",
   "metadata": {},
   "outputs": [],
   "source": [
    "cursor = collection.find().sort('Age',pymongo.ASCENDING).limit(3)\n",
    "for doc in cursor:\n",
    "    print (doc)"
   ]
  },
  {
   "cell_type": "code",
   "execution_count": null,
   "id": "02f53c81",
   "metadata": {},
   "outputs": [],
   "source": [
    "pipeline = [\n",
    "        {\"$group\": {\"_id\":\"$Country\",\n",
    "             \"AvgAge\":{\"$avg\":\"$Age\"},\n",
    "             \"Count\":{\"$sum\":1},\n",
    "        }},\n",
    "        {\"$sort\":{\"Count\":-1,\"AvgAge\":1}}\n",
    "]\n",
    "aggResult = collection.aggregate(pipeline) # returns a cursor\n",
    "df1 = pd.DataFrame(list(aggResult)) # use list to turn the cursor to an array of documents\n",
    "df1 = df1.set_index(\"_id\")\n",
    "df1.head()"
   ]
  },
  {
   "cell_type": "code",
   "execution_count": null,
   "id": "9278de52",
   "metadata": {},
   "outputs": [],
   "source": [
    "pipeline = [\n",
    "        {\"$match\": {\"Country\":\"China\"}},\n",
    "]\n",
    "aggResult = collection.aggregate(pipeline)\n",
    "df2 = pd.DataFrame(list(aggResult))\n",
    "df2.head()"
   ]
  },
  {
   "cell_type": "code",
   "execution_count": null,
   "id": "564a555d",
   "metadata": {},
   "outputs": [],
   "source": [
    "import folium\n",
    "print ('Folium version', folium.__version__)\n",
    "\n",
    "world_map = folium.Map(location=[35, 100], \n",
    "                    zoom_start=4)\n",
    "for i in range(len(df2)):\n",
    "    #world_map.simple_marker(location=df2.Location[i].split(','), popup=df2.Name[i]+', age:'+str(df2.Age[i]))\n",
    "    folium.Marker(df2.Location[i].split(','), popup=df2.Name[i]+', age:'+str(df2.Age[i]),tooltip=df2.Name[i]).add_to(world_map)\n",
    "    #folium.Marker(\n",
    "    #[45.3288, -121.6625], popup=\"<i>Mt. Hood Meadows</i>\", tooltip=tooltip\n",
    "#).add_to(m)\n",
    "    \n",
    "world_map"
   ]
  },
  {
   "cell_type": "code",
   "execution_count": null,
   "id": "8a4685c3",
   "metadata": {},
   "outputs": [],
   "source": []
  }
 ],
 "metadata": {
  "kernelspec": {
   "display_name": "Python 3 (ipykernel)",
   "language": "python",
   "name": "python3"
  },
  "language_info": {
   "codemirror_mode": {
    "name": "ipython",
    "version": 3
   },
   "file_extension": ".py",
   "mimetype": "text/x-python",
   "name": "python",
   "nbconvert_exporter": "python",
   "pygments_lexer": "ipython3",
   "version": "3.9.7"
  }
 },
 "nbformat": 4,
 "nbformat_minor": 5
}
