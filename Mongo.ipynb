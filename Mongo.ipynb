{
 "cells": [
  {
   "attachments": {},
   "cell_type": "markdown",
   "id": "b2ee2b29",
   "metadata": {},
   "source": [
    "# Notebook to experiment with MongoDB\n",
    "\n",
    "In this notebook you can play around with MongoDB through python."
   ]
  },
  {
   "attachments": {},
   "cell_type": "markdown",
   "id": "ec73c07f",
   "metadata": {},
   "source": [
    "First we install some needed libraries."
   ]
  },
  {
   "cell_type": "code",
   "execution_count": null,
   "id": "bd0a6e77",
   "metadata": {},
   "outputs": [],
   "source": [
    "%pip install pymongo --quiet\n",
    "%pip install folium --quiet"
   ]
  },
  {
   "attachments": {},
   "cell_type": "markdown",
   "id": "0d17a723",
   "metadata": {},
   "source": [
    "Next we load the libraries we are going to use. Most important is pymongo which will interface python with the MongoDB running on the Jupyter server."
   ]
  },
  {
   "cell_type": "code",
   "execution_count": null,
   "id": "da2a65cf",
   "metadata": {},
   "outputs": [],
   "source": [
    "import os\n",
    "import pandas as pd\n",
    "import numpy as np\n",
    "from IPython.display import display, HTML\n",
    "import pymongo\n",
    "from pymongo import MongoClient\n",
    "import subprocess"
   ]
  },
  {
   "attachments": {},
   "cell_type": "markdown",
   "id": "76ab1bad",
   "metadata": {},
   "source": [
    "Print the version of MongoDB."
   ]
  },
  {
   "cell_type": "code",
   "execution_count": null,
   "id": "d91d4e21",
   "metadata": {},
   "outputs": [],
   "source": [
    "print ('Mongo version', pymongo.__version__)\n"
   ]
  },
  {
   "attachments": {},
   "cell_type": "markdown",
   "id": "0ae2f571",
   "metadata": {},
   "source": [
    "Connect to the MongoDB on localhost using user `test`. The password is grabbed from the disk, to hide it from others.\n",
    "We are connecting to the database test. The variable `client` holds the connection from the client to the server."
   ]
  },
  {
   "cell_type": "code",
   "execution_count": null,
   "id": "d59b2e7a",
   "metadata": {},
   "outputs": [],
   "source": [
    "host = \"localhost\"\n",
    "port = 27017\n",
    "\n",
    "user_name = \"test\"\n",
    "pass_word = subprocess.check_output(['cat', '/home/mongopasswd']).decode(\"utf-8\").replace(\"\\n\", \"\")  \n",
    "\n",
    "db_name = \"test\"  # database name to authenticate\n",
    "\n",
    "client = MongoClient(f'mongodb://{user_name}:{pass_word}@{host}:{port}/{db_name}') \n"
   ]
  },
  {
   "attachments": {},
   "cell_type": "markdown",
   "id": "e4cec826",
   "metadata": {},
   "source": [
    "The `db` variable holds the database.\n",
    "The `collection` variable holds the collection (equivalent to a table in SQL) we are going to be working with.\n",
    "\n",
    "**Change the text FILL_IN to something of your choice - different from the other participants**"
   ]
  },
  {
   "cell_type": "code",
   "execution_count": null,
   "id": "748c9e0e",
   "metadata": {},
   "outputs": [],
   "source": [
    "db = client.test\n",
    "collection = db.FILL_IN"
   ]
  },
  {
   "attachments": {},
   "cell_type": "markdown",
   "id": "97bf9f49",
   "metadata": {},
   "source": [
    "If there is already something in the collection we drop it.\n",
    "Then we import the JSON data from the dummyData.json file.\n",
    "\n",
    "**FILL_IN in the mongoimport command needs to be the same collection name as you picked in the previous code block**"
   ]
  },
  {
   "cell_type": "code",
   "execution_count": null,
   "id": "873c5009",
   "metadata": {},
   "outputs": [],
   "source": [
    "collection.drop()\n",
    "os.system('mongoimport -u test -p \"mongo\" -d test -c FILL_IN ./dummyData.json')"
   ]
  },
  {
   "attachments": {},
   "cell_type": "markdown",
   "id": "4523f2c1",
   "metadata": {},
   "source": [
    "In the following code block we perform a query. We find everything in the collection, sort Ascending on Age and limit the output to 10 entries.\n",
    "The result is a cursor - this is an iterable in python. So we loop over cursor to get all the rows of output."
   ]
  },
  {
   "cell_type": "code",
   "execution_count": null,
   "id": "432cfa86",
   "metadata": {},
   "outputs": [],
   "source": [
    "cursor = collection.find().sort('Age',pymongo.ASCENDING).limit(10)\n",
    "for doc in cursor:\n",
    "    print (doc)"
   ]
  },
  {
   "attachments": {},
   "cell_type": "markdown",
   "id": "d4b0be8e",
   "metadata": {},
   "source": [
    "In the following code block we create an aggregate pipeline.\n",
    "In the pipeline we state we want to group over Country. For each Country we calculate the average age, called AvgAge.\n",
    "We also count how many entries per Country.\n",
    "\n",
    "We sort the resulting rows ascending on AvgAge and descending on count.\n",
    "\n",
    "The result is again a cursor, this time we use list to convert the iterable into an array. Which we wrap in a Pandas data-frame.\n",
    "\n",
    "We show the first 10 entries in data-frame df1."
   ]
  },
  {
   "cell_type": "code",
   "execution_count": null,
   "id": "02f53c81",
   "metadata": {},
   "outputs": [],
   "source": [
    "pipeline = [\n",
    "        {\"$group\": {\"_id\":\"$Country\",\n",
    "             \"AvgAge\":{\"$avg\":\"$Age\"},\n",
    "             \"Count\":{\"$sum\":1},\n",
    "        }},\n",
    "        {\"$sort\":{\"Count\":-1,\"AvgAge\":1}}\n",
    "]\n",
    "aggResult = collection.aggregate(pipeline) # returns a cursor\n",
    "df1 = pd.DataFrame(list(aggResult)) # use list to turn the cursor to an array of documents\n",
    "df1 = df1.set_index(\"_id\")\n",
    "df1.head(10)"
   ]
  },
  {
   "attachments": {},
   "cell_type": "markdown",
   "id": "32fbf03c",
   "metadata": {},
   "source": [
    "This next query does a match against the Country being China. So all 'rows' that contain China are returned.\n",
    "Again use list and pd.DataFrame to convert to a Pandas data-frame.\n",
    "\n",
    "Show the first 10 entries."
   ]
  },
  {
   "cell_type": "code",
   "execution_count": null,
   "id": "9278de52",
   "metadata": {},
   "outputs": [],
   "source": [
    "pipeline = [\n",
    "        {\"$match\": {\"Country\":\"China\"}},\n",
    "]\n",
    "aggResult = collection.aggregate(pipeline)\n",
    "df2 = pd.DataFrame(list(aggResult))\n",
    "df2.head(10)"
   ]
  },
  {
   "attachments": {},
   "cell_type": "markdown",
   "id": "f8387899",
   "metadata": {},
   "source": [
    "In the next code block we use `folium` to show the results in the `df2` data-frame on a map."
   ]
  },
  {
   "cell_type": "code",
   "execution_count": null,
   "id": "564a555d",
   "metadata": {},
   "outputs": [],
   "source": [
    "import folium\n",
    "print ('Folium version', folium.__version__)\n",
    "\n",
    "world_map = folium.Map(location=[35, 100], \n",
    "                    zoom_start=4)\n",
    "for i in range(len(df2)):\n",
    "    folium.Marker(df2.Location[i].split(','), popup=df2.Name[i]+', age:'+str(df2.Age[i]),tooltip=df2.Name[i]).add_to(world_map)\n",
    "world_map"
   ]
  }
 ],
 "metadata": {
  "kernelspec": {
   "display_name": "Python 3 (ipykernel)",
   "language": "python",
   "name": "python3"
  },
  "language_info": {
   "codemirror_mode": {
    "name": "ipython",
    "version": 3
   },
   "file_extension": ".py",
   "mimetype": "text/x-python",
   "name": "python",
   "nbconvert_exporter": "python",
   "pygments_lexer": "ipython3",
   "version": "3.9.7"
  }
 },
 "nbformat": 4,
 "nbformat_minor": 5
}
